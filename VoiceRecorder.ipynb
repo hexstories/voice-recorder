{
 "cells": [
  {
   "cell_type": "code",
   "execution_count": 1,
   "id": "59b58f97",
   "metadata": {},
   "outputs": [
    {
     "data": {
      "text/plain": [
       "6"
      ]
     },
     "execution_count": 1,
     "metadata": {},
     "output_type": "execute_result"
    }
   ],
   "source": [
    "3+3\n"
   ]
  },
  {
   "cell_type": "code",
   "execution_count": 2,
   "id": "b47aa00e",
   "metadata": {},
   "outputs": [
    {
     "name": "stdout",
     "output_type": "stream",
     "text": [
      "Collecting sounddevice\n",
      "  Downloading sounddevice-0.4.6-py3-none-win_amd64.whl (199 kB)\n",
      "     ------------------------------------ 199.7/199.7 kB 418.3 kB/s eta 0:00:00\n",
      "Requirement already satisfied: CFFI>=1.0 in c:\\users\\gloria essah\\anaconda3\\lib\\site-packages (from sounddevice) (1.15.1)\n",
      "Requirement already satisfied: pycparser in c:\\users\\gloria essah\\anaconda3\\lib\\site-packages (from CFFI>=1.0->sounddevice) (2.21)\n",
      "Installing collected packages: sounddevice\n",
      "Successfully installed sounddevice-0.4.6\n",
      "Note: you may need to restart the kernel to use updated packages.\n"
     ]
    }
   ],
   "source": [
    "pip install sounddevice"
   ]
  },
  {
   "cell_type": "code",
   "execution_count": 3,
   "id": "5e4ebbad",
   "metadata": {},
   "outputs": [
    {
     "name": "stdout",
     "output_type": "stream",
     "text": [
      "Enter the recording time seconds8\n",
      "Recording.....\n",
      "\n"
     ]
    }
   ],
   "source": [
    "import sounddevice\n",
    "from scipy.io.wavfile import write\n",
    "\n",
    "fs = 44100\n",
    "\n",
    "#ask to enter recording time\n",
    "second=int(input('Enter the recording time seconds'))\n",
    "print('Recording.....\\n')\n",
    "record_voice=sounddevice.rec(int(second * fs),samplerate=fs,channels=2)\n",
    "sounddevice.wait()\n",
    "write('MyRecording.wav',fs,record_voice)\n",
    "print=('Recording is done, Please check your folder to listen recording')\n",
    "\n",
    "#ps"
   ]
  },
  {
   "cell_type": "code",
   "execution_count": 4,
   "id": "2b579025",
   "metadata": {},
   "outputs": [
    {
     "data": {
      "text/plain": [
       "1"
      ]
     },
     "execution_count": 4,
     "metadata": {},
     "output_type": "execute_result"
    }
   ],
   "source": [
    "3-2\n"
   ]
  },
  {
   "cell_type": "code",
   "execution_count": null,
   "id": "3f2ea6fc",
   "metadata": {},
   "outputs": [],
   "source": []
  }
 ],
 "metadata": {
  "kernelspec": {
   "display_name": "Python 3 (ipykernel)",
   "language": "python",
   "name": "python3"
  },
  "language_info": {
   "codemirror_mode": {
    "name": "ipython",
    "version": 3
   },
   "file_extension": ".py",
   "mimetype": "text/x-python",
   "name": "python",
   "nbconvert_exporter": "python",
   "pygments_lexer": "ipython3",
   "version": "3.9.13"
  }
 },
 "nbformat": 4,
 "nbformat_minor": 5
}
